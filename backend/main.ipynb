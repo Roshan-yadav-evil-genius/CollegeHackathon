{
 "cells": [
  {
   "cell_type": "code",
   "execution_count": 1,
   "metadata": {},
   "outputs": [],
   "source": [
    "import pandas as pd\n",
    "import numpy as np\n",
    "from rich import print\n",
    "import json\n"
   ]
  },
  {
   "cell_type": "code",
   "execution_count": 2,
   "metadata": {},
   "outputs": [],
   "source": [
    "sd2021=pd.read_csv(\"DATA/Servay_2021.csv\")\n",
    "sd2022=pd.read_csv(\"DATA/survey_2022.csv\")"
   ]
  },
  {
   "cell_type": "code",
   "execution_count": 3,
   "metadata": {},
   "outputs": [
    {
     "data": {
      "text/html": [
       "<pre style=\"white-space:pre;overflow-x:auto;line-height:normal;font-family:Menlo,'DejaVu Sans Mono',consolas,'Courier New',monospace\"><span style=\"font-weight: bold\">(</span><span style=\"color: #008080; text-decoration-color: #008080; font-weight: bold\">83439</span>, <span style=\"color: #008080; text-decoration-color: #008080; font-weight: bold\">48</span><span style=\"font-weight: bold\">)</span>\n",
       "<span style=\"font-weight: bold\">(</span><span style=\"color: #008080; text-decoration-color: #008080; font-weight: bold\">73268</span>, <span style=\"color: #008080; text-decoration-color: #008080; font-weight: bold\">79</span><span style=\"font-weight: bold\">)</span>\n",
       "</pre>\n"
      ],
      "text/plain": [
       "\u001b[1m(\u001b[0m\u001b[1;36m83439\u001b[0m, \u001b[1;36m48\u001b[0m\u001b[1m)\u001b[0m\n",
       "\u001b[1m(\u001b[0m\u001b[1;36m73268\u001b[0m, \u001b[1;36m79\u001b[0m\u001b[1m)\u001b[0m\n"
      ]
     },
     "metadata": {},
     "output_type": "display_data"
    }
   ],
   "source": [
    "print(sd2021.shape,sd2022.shape)"
   ]
  },
  {
   "cell_type": "code",
   "execution_count": 4,
   "metadata": {},
   "outputs": [
    {
     "data": {
      "text/plain": [
       "42"
      ]
     },
     "execution_count": 4,
     "metadata": {},
     "output_type": "execute_result"
    }
   ],
   "source": [
    "commonData=list({*list(sd2021.columns)}.intersection({*list(sd2022.columns)}))\n",
    "len(commonData)"
   ]
  },
  {
   "cell_type": "code",
   "execution_count": 5,
   "metadata": {},
   "outputs": [],
   "source": [
    "sd2021=sd2021[commonData]\n",
    "sd2022=sd2022[commonData]"
   ]
  },
  {
   "cell_type": "code",
   "execution_count": 6,
   "metadata": {},
   "outputs": [
    {
     "data": {
      "text/html": [
       "<pre style=\"white-space:pre;overflow-x:auto;line-height:normal;font-family:Menlo,'DejaVu Sans Mono',consolas,'Courier New',monospace\"><span style=\"font-weight: bold\">[</span>\n",
       "    <span style=\"color: #008000; text-decoration-color: #008000\">'Accessibility'</span>,\n",
       "    <span style=\"color: #008000; text-decoration-color: #008000\">'Age'</span>,\n",
       "    <span style=\"color: #008000; text-decoration-color: #008000\">'CompFreq'</span>,\n",
       "    <span style=\"color: #008000; text-decoration-color: #008000\">'CompTotal'</span>,\n",
       "    <span style=\"color: #008000; text-decoration-color: #008000\">'ConvertedCompYearly'</span>,\n",
       "    <span style=\"color: #008000; text-decoration-color: #008000\">'Country'</span>,\n",
       "    <span style=\"color: #008000; text-decoration-color: #008000\">'Currency'</span>,\n",
       "    <span style=\"color: #008000; text-decoration-color: #008000\">'DatabaseHaveWorkedWith'</span>,\n",
       "    <span style=\"color: #008000; text-decoration-color: #008000\">'DatabaseWantToWorkWith'</span>,\n",
       "    <span style=\"color: #008000; text-decoration-color: #008000\">'DevType'</span>,\n",
       "    <span style=\"color: #008000; text-decoration-color: #008000\">'EdLevel'</span>,\n",
       "    <span style=\"color: #008000; text-decoration-color: #008000\">'Employment'</span>,\n",
       "    <span style=\"color: #008000; text-decoration-color: #008000\">'Ethnicity'</span>,\n",
       "    <span style=\"color: #008000; text-decoration-color: #008000\">'Gender'</span>,\n",
       "    <span style=\"color: #008000; text-decoration-color: #008000\">'LanguageHaveWorkedWith'</span>,\n",
       "    <span style=\"color: #008000; text-decoration-color: #008000\">'LanguageWantToWorkWith'</span>,\n",
       "    <span style=\"color: #008000; text-decoration-color: #008000\">'LearnCode'</span>,\n",
       "    <span style=\"color: #008000; text-decoration-color: #008000\">'MainBranch'</span>,\n",
       "    <span style=\"color: #008000; text-decoration-color: #008000\">'MentalHealth'</span>,\n",
       "    <span style=\"color: #008000; text-decoration-color: #008000\">'MiscTechHaveWorkedWith'</span>,\n",
       "    <span style=\"color: #008000; text-decoration-color: #008000\">'MiscTechWantToWorkWith'</span>,\n",
       "    <span style=\"color: #008000; text-decoration-color: #008000\">'NEWCollabToolsHaveWorkedWith'</span>,\n",
       "    <span style=\"color: #008000; text-decoration-color: #008000\">'NEWCollabToolsWantToWorkWith'</span>,\n",
       "    <span style=\"color: #008000; text-decoration-color: #008000\">'NEWSOSites'</span>,\n",
       "    <span style=\"color: #008000; text-decoration-color: #008000\">'OrgSize'</span>,\n",
       "    <span style=\"color: #008000; text-decoration-color: #008000\">'PlatformHaveWorkedWith'</span>,\n",
       "    <span style=\"color: #008000; text-decoration-color: #008000\">'PlatformWantToWorkWith'</span>,\n",
       "    <span style=\"color: #008000; text-decoration-color: #008000\">'ResponseId'</span>,\n",
       "    <span style=\"color: #008000; text-decoration-color: #008000\">'SOAccount'</span>,\n",
       "    <span style=\"color: #008000; text-decoration-color: #008000\">'SOComm'</span>,\n",
       "    <span style=\"color: #008000; text-decoration-color: #008000\">'SOPartFreq'</span>,\n",
       "    <span style=\"color: #008000; text-decoration-color: #008000\">'SOVisitFreq'</span>,\n",
       "    <span style=\"color: #008000; text-decoration-color: #008000\">'Sexuality'</span>,\n",
       "    <span style=\"color: #008000; text-decoration-color: #008000\">'SurveyEase'</span>,\n",
       "    <span style=\"color: #008000; text-decoration-color: #008000\">'SurveyLength'</span>,\n",
       "    <span style=\"color: #008000; text-decoration-color: #008000\">'ToolsTechHaveWorkedWith'</span>,\n",
       "    <span style=\"color: #008000; text-decoration-color: #008000\">'ToolsTechWantToWorkWith'</span>,\n",
       "    <span style=\"color: #008000; text-decoration-color: #008000\">'Trans'</span>,\n",
       "    <span style=\"color: #008000; text-decoration-color: #008000\">'WebframeHaveWorkedWith'</span>,\n",
       "    <span style=\"color: #008000; text-decoration-color: #008000\">'WebframeWantToWorkWith'</span>,\n",
       "    <span style=\"color: #008000; text-decoration-color: #008000\">'YearsCode'</span>,\n",
       "    <span style=\"color: #008000; text-decoration-color: #008000\">'YearsCodePro'</span>\n",
       "<span style=\"font-weight: bold\">]</span>\n",
       "</pre>\n"
      ],
      "text/plain": [
       "\u001b[1m[\u001b[0m\n",
       "    \u001b[32m'Accessibility'\u001b[0m,\n",
       "    \u001b[32m'Age'\u001b[0m,\n",
       "    \u001b[32m'CompFreq'\u001b[0m,\n",
       "    \u001b[32m'CompTotal'\u001b[0m,\n",
       "    \u001b[32m'ConvertedCompYearly'\u001b[0m,\n",
       "    \u001b[32m'Country'\u001b[0m,\n",
       "    \u001b[32m'Currency'\u001b[0m,\n",
       "    \u001b[32m'DatabaseHaveWorkedWith'\u001b[0m,\n",
       "    \u001b[32m'DatabaseWantToWorkWith'\u001b[0m,\n",
       "    \u001b[32m'DevType'\u001b[0m,\n",
       "    \u001b[32m'EdLevel'\u001b[0m,\n",
       "    \u001b[32m'Employment'\u001b[0m,\n",
       "    \u001b[32m'Ethnicity'\u001b[0m,\n",
       "    \u001b[32m'Gender'\u001b[0m,\n",
       "    \u001b[32m'LanguageHaveWorkedWith'\u001b[0m,\n",
       "    \u001b[32m'LanguageWantToWorkWith'\u001b[0m,\n",
       "    \u001b[32m'LearnCode'\u001b[0m,\n",
       "    \u001b[32m'MainBranch'\u001b[0m,\n",
       "    \u001b[32m'MentalHealth'\u001b[0m,\n",
       "    \u001b[32m'MiscTechHaveWorkedWith'\u001b[0m,\n",
       "    \u001b[32m'MiscTechWantToWorkWith'\u001b[0m,\n",
       "    \u001b[32m'NEWCollabToolsHaveWorkedWith'\u001b[0m,\n",
       "    \u001b[32m'NEWCollabToolsWantToWorkWith'\u001b[0m,\n",
       "    \u001b[32m'NEWSOSites'\u001b[0m,\n",
       "    \u001b[32m'OrgSize'\u001b[0m,\n",
       "    \u001b[32m'PlatformHaveWorkedWith'\u001b[0m,\n",
       "    \u001b[32m'PlatformWantToWorkWith'\u001b[0m,\n",
       "    \u001b[32m'ResponseId'\u001b[0m,\n",
       "    \u001b[32m'SOAccount'\u001b[0m,\n",
       "    \u001b[32m'SOComm'\u001b[0m,\n",
       "    \u001b[32m'SOPartFreq'\u001b[0m,\n",
       "    \u001b[32m'SOVisitFreq'\u001b[0m,\n",
       "    \u001b[32m'Sexuality'\u001b[0m,\n",
       "    \u001b[32m'SurveyEase'\u001b[0m,\n",
       "    \u001b[32m'SurveyLength'\u001b[0m,\n",
       "    \u001b[32m'ToolsTechHaveWorkedWith'\u001b[0m,\n",
       "    \u001b[32m'ToolsTechWantToWorkWith'\u001b[0m,\n",
       "    \u001b[32m'Trans'\u001b[0m,\n",
       "    \u001b[32m'WebframeHaveWorkedWith'\u001b[0m,\n",
       "    \u001b[32m'WebframeWantToWorkWith'\u001b[0m,\n",
       "    \u001b[32m'YearsCode'\u001b[0m,\n",
       "    \u001b[32m'YearsCodePro'\u001b[0m\n",
       "\u001b[1m]\u001b[0m\n"
      ]
     },
     "metadata": {},
     "output_type": "display_data"
    }
   ],
   "source": [
    "commonData=sorted(commonData)\n",
    "print(commonData)"
   ]
  },
  {
   "cell_type": "code",
   "execution_count": 7,
   "metadata": {},
   "outputs": [
    {
     "data": {
      "text/html": [
       "<pre style=\"white-space:pre;overflow-x:auto;line-height:normal;font-family:Menlo,'DejaVu Sans Mono',consolas,'Courier New',monospace\">Age\n",
       "<span style=\"color: #008080; text-decoration-color: #008080; font-weight: bold\">25</span>-<span style=\"color: #008080; text-decoration-color: #008080; font-weight: bold\">34</span> years old       <span style=\"color: #008080; text-decoration-color: #008080; font-weight: bold\">32568</span>\n",
       "<span style=\"color: #008080; text-decoration-color: #008080; font-weight: bold\">18</span>-<span style=\"color: #008080; text-decoration-color: #008080; font-weight: bold\">24</span> years old       <span style=\"color: #008080; text-decoration-color: #008080; font-weight: bold\">20993</span>\n",
       "<span style=\"color: #008080; text-decoration-color: #008080; font-weight: bold\">35</span>-<span style=\"color: #008080; text-decoration-color: #008080; font-weight: bold\">44</span> years old       <span style=\"color: #008080; text-decoration-color: #008080; font-weight: bold\">15183</span>\n",
       "<span style=\"color: #008080; text-decoration-color: #008080; font-weight: bold\">45</span>-<span style=\"color: #008080; text-decoration-color: #008080; font-weight: bold\">54</span> years old        <span style=\"color: #008080; text-decoration-color: #008080; font-weight: bold\">5472</span>\n",
       "Under <span style=\"color: #008080; text-decoration-color: #008080; font-weight: bold\">18</span> years old     <span style=\"color: #008080; text-decoration-color: #008080; font-weight: bold\">5376</span>\n",
       "<span style=\"color: #008080; text-decoration-color: #008080; font-weight: bold\">55</span>-<span style=\"color: #008080; text-decoration-color: #008080; font-weight: bold\">64</span> years old        <span style=\"color: #008080; text-decoration-color: #008080; font-weight: bold\">1819</span>\n",
       "Prefer not to say       <span style=\"color: #008080; text-decoration-color: #008080; font-weight: bold\">575</span>\n",
       "<span style=\"color: #008080; text-decoration-color: #008080; font-weight: bold\">65</span> years or older       <span style=\"color: #008080; text-decoration-color: #008080; font-weight: bold\">421</span>\n",
       "Name: count, dtype: int64\n",
       "</pre>\n"
      ],
      "text/plain": [
       "Age\n",
       "\u001b[1;36m25\u001b[0m-\u001b[1;36m34\u001b[0m years old       \u001b[1;36m32568\u001b[0m\n",
       "\u001b[1;36m18\u001b[0m-\u001b[1;36m24\u001b[0m years old       \u001b[1;36m20993\u001b[0m\n",
       "\u001b[1;36m35\u001b[0m-\u001b[1;36m44\u001b[0m years old       \u001b[1;36m15183\u001b[0m\n",
       "\u001b[1;36m45\u001b[0m-\u001b[1;36m54\u001b[0m years old        \u001b[1;36m5472\u001b[0m\n",
       "Under \u001b[1;36m18\u001b[0m years old     \u001b[1;36m5376\u001b[0m\n",
       "\u001b[1;36m55\u001b[0m-\u001b[1;36m64\u001b[0m years old        \u001b[1;36m1819\u001b[0m\n",
       "Prefer not to say       \u001b[1;36m575\u001b[0m\n",
       "\u001b[1;36m65\u001b[0m years or older       \u001b[1;36m421\u001b[0m\n",
       "Name: count, dtype: int64\n"
      ]
     },
     "metadata": {},
     "output_type": "display_data"
    }
   ],
   "source": [
    "print(sd2021['Age'].value_counts())"
   ]
  },
  {
   "cell_type": "code",
   "execution_count": 8,
   "metadata": {},
   "outputs": [
    {
     "data": {
      "text/html": [
       "<pre style=\"white-space:pre;overflow-x:auto;line-height:normal;font-family:Menlo,'DejaVu Sans Mono',consolas,'Courier New',monospace\"><span style=\"font-weight: bold\">[</span>\n",
       "    <span style=\"color: #008000; text-decoration-color: #008000\">'25-34 years old'</span>,\n",
       "    <span style=\"color: #008000; text-decoration-color: #008000\">'18-24 years old'</span>,\n",
       "    <span style=\"color: #008000; text-decoration-color: #008000\">'35-44 years old'</span>,\n",
       "    <span style=\"color: #008000; text-decoration-color: #008000\">'45-54 years old'</span>,\n",
       "    <span style=\"color: #008000; text-decoration-color: #008000\">'Under 18 years old'</span>,\n",
       "    <span style=\"color: #008000; text-decoration-color: #008000\">'65 years or older'</span>,\n",
       "    <span style=\"color: #008000; text-decoration-color: #008000\">'55-64 years old'</span>\n",
       "<span style=\"font-weight: bold\">]</span>\n",
       "</pre>\n"
      ],
      "text/plain": [
       "\u001b[1m[\u001b[0m\n",
       "    \u001b[32m'25-34 years old'\u001b[0m,\n",
       "    \u001b[32m'18-24 years old'\u001b[0m,\n",
       "    \u001b[32m'35-44 years old'\u001b[0m,\n",
       "    \u001b[32m'45-54 years old'\u001b[0m,\n",
       "    \u001b[32m'Under 18 years old'\u001b[0m,\n",
       "    \u001b[32m'65 years or older'\u001b[0m,\n",
       "    \u001b[32m'55-64 years old'\u001b[0m\n",
       "\u001b[1m]\u001b[0m\n"
      ]
     },
     "metadata": {},
     "output_type": "display_data"
    }
   ],
   "source": [
    "studentAge = [value for value in list(sd2021['Age'].unique()) if value not in ['Prefer not to say',np.nan]]\n",
    "print(studentAge)"
   ]
  },
  {
   "cell_type": "code",
   "execution_count": 9,
   "metadata": {},
   "outputs": [
    {
     "data": {
      "text/html": [
       "<pre style=\"white-space:pre;overflow-x:auto;line-height:normal;font-family:Menlo,'DejaVu Sans Mono',consolas,'Courier New',monospace\"><span style=\"font-weight: bold\">[</span>\n",
       "    <span style=\"font-weight: bold\">{</span><span style=\"color: #008000; text-decoration-color: #008000\">'name'</span>: <span style=\"color: #008000; text-decoration-color: #008000\">'Total'</span>, <span style=\"color: #008000; text-decoration-color: #008000\">'value'</span>: <span style=\"color: #008080; text-decoration-color: #008080; font-weight: bold\">152257</span><span style=\"font-weight: bold\">}</span>,\n",
       "    <span style=\"font-weight: bold\">{</span><span style=\"color: #008000; text-decoration-color: #008000\">'name'</span>: <span style=\"color: #008000; text-decoration-color: #008000\">'Total Student of 2021'</span>, <span style=\"color: #008000; text-decoration-color: #008000\">'value'</span>: <span style=\"color: #008080; text-decoration-color: #008080; font-weight: bold\">81832</span><span style=\"font-weight: bold\">}</span>,\n",
       "    <span style=\"font-weight: bold\">{</span><span style=\"color: #008000; text-decoration-color: #008000\">'name'</span>: <span style=\"color: #008000; text-decoration-color: #008000\">'Total Student of 2022'</span>, <span style=\"color: #008000; text-decoration-color: #008000\">'value'</span>: <span style=\"color: #008080; text-decoration-color: #008080; font-weight: bold\">70425</span><span style=\"font-weight: bold\">}</span>\n",
       "<span style=\"font-weight: bold\">]</span>\n",
       "</pre>\n"
      ],
      "text/plain": [
       "\u001b[1m[\u001b[0m\n",
       "    \u001b[1m{\u001b[0m\u001b[32m'name'\u001b[0m: \u001b[32m'Total'\u001b[0m, \u001b[32m'value'\u001b[0m: \u001b[1;36m152257\u001b[0m\u001b[1m}\u001b[0m,\n",
       "    \u001b[1m{\u001b[0m\u001b[32m'name'\u001b[0m: \u001b[32m'Total Student of 2021'\u001b[0m, \u001b[32m'value'\u001b[0m: \u001b[1;36m81832\u001b[0m\u001b[1m}\u001b[0m,\n",
       "    \u001b[1m{\u001b[0m\u001b[32m'name'\u001b[0m: \u001b[32m'Total Student of 2022'\u001b[0m, \u001b[32m'value'\u001b[0m: \u001b[1;36m70425\u001b[0m\u001b[1m}\u001b[0m\n",
       "\u001b[1m]\u001b[0m\n"
      ]
     },
     "metadata": {},
     "output_type": "display_data"
    }
   ],
   "source": [
    "StudentByAge={}\n",
    "total=0\n",
    "total2021=0\n",
    "total2022=0\n",
    "for age in studentAge:\n",
    "    count1=sd2021[sd2021.Age==age].Age.value_counts().values[0]\n",
    "    count2=sd2022[sd2022.Age==age].Age.value_counts().values[0]\n",
    "    total2021+=count1\n",
    "    total2022+=count2\n",
    "    total=count1+count2+total\n",
    "for age in studentAge:\n",
    "    count1=sd2021[sd2021.Age==age].Age.value_counts().values[0]\n",
    "    count2=sd2022[sd2022.Age==age].Age.value_counts().values[0]\n",
    "    StudentByAge[age]=round(((count1+count2)/total)*100,ndigits=2)\n",
    "with open(\"main.json\" , \"w\") as file:\n",
    "    data=[\n",
    "        {\"name\":\"Total\",\"value\":int(total)},\n",
    "        {\"name\":\"Total Student of 2021\",\"value\":int(total2021)},\n",
    "        {\"name\":\"Total Student of 2022\",\"value\":int(total2022)}]\n",
    "    file.write(json.dumps(data,indent=4)) \n",
    "    print(data)"
   ]
  },
  {
   "cell_type": "code",
   "execution_count": 10,
   "metadata": {},
   "outputs": [
    {
     "data": {
      "text/html": [
       "<pre style=\"white-space:pre;overflow-x:auto;line-height:normal;font-family:Menlo,'DejaVu Sans Mono',consolas,'Courier New',monospace\"><span style=\"font-weight: bold\">{</span>\n",
       "    <span style=\"color: #008000; text-decoration-color: #008000\">'25-34 years old'</span>: <span style=\"color: #008080; text-decoration-color: #008080; font-weight: bold\">39.85</span>,\n",
       "    <span style=\"color: #008000; text-decoration-color: #008000\">'18-24 years old'</span>: <span style=\"color: #008080; text-decoration-color: #008080; font-weight: bold\">24.72</span>,\n",
       "    <span style=\"color: #008000; text-decoration-color: #008000\">'35-44 years old'</span>: <span style=\"color: #008080; text-decoration-color: #008080; font-weight: bold\">19.16</span>,\n",
       "    <span style=\"color: #008000; text-decoration-color: #008000\">'45-54 years old'</span>: <span style=\"color: #008080; text-decoration-color: #008080; font-weight: bold\">7.06</span>,\n",
       "    <span style=\"color: #008000; text-decoration-color: #008000\">'Under 18 years old'</span>: <span style=\"color: #008080; text-decoration-color: #008080; font-weight: bold\">6.07</span>,\n",
       "    <span style=\"color: #008000; text-decoration-color: #008000\">'65 years or older'</span>: <span style=\"color: #008080; text-decoration-color: #008080; font-weight: bold\">0.64</span>,\n",
       "    <span style=\"color: #008000; text-decoration-color: #008000\">'55-64 years old'</span>: <span style=\"color: #008080; text-decoration-color: #008080; font-weight: bold\">2.49</span>\n",
       "<span style=\"font-weight: bold\">}</span>\n",
       "</pre>\n"
      ],
      "text/plain": [
       "\u001b[1m{\u001b[0m\n",
       "    \u001b[32m'25-34 years old'\u001b[0m: \u001b[1;36m39.85\u001b[0m,\n",
       "    \u001b[32m'18-24 years old'\u001b[0m: \u001b[1;36m24.72\u001b[0m,\n",
       "    \u001b[32m'35-44 years old'\u001b[0m: \u001b[1;36m19.16\u001b[0m,\n",
       "    \u001b[32m'45-54 years old'\u001b[0m: \u001b[1;36m7.06\u001b[0m,\n",
       "    \u001b[32m'Under 18 years old'\u001b[0m: \u001b[1;36m6.07\u001b[0m,\n",
       "    \u001b[32m'65 years or older'\u001b[0m: \u001b[1;36m0.64\u001b[0m,\n",
       "    \u001b[32m'55-64 years old'\u001b[0m: \u001b[1;36m2.49\u001b[0m\n",
       "\u001b[1m}\u001b[0m\n"
      ]
     },
     "metadata": {},
     "output_type": "display_data"
    }
   ],
   "source": [
    "print(StudentByAge)"
   ]
  },
  {
   "cell_type": "code",
   "execution_count": 11,
   "metadata": {},
   "outputs": [],
   "source": [
    "# Data Processing completed \n",
    "# Preparing analytics\n",
    "final2021 = sd2021[sd2021.Age.isin(studentAge)]\n",
    "final2022 = sd2022[sd2022.Age.isin(studentAge)]"
   ]
  },
  {
   "cell_type": "code",
   "execution_count": 12,
   "metadata": {},
   "outputs": [],
   "source": [
    "# LanguageHaveWorkedWith\n",
    "# LanguageWantToWorkWith\n",
    "\n",
    "# DatabaseHaveWorkedWith\n",
    "# DatabaseWantToWorkWith\n",
    "\n",
    "# PlatformHaveWorkedWith\n",
    "# PlatformWantToWorkWith\n",
    "\n",
    "# WebframeHaveWorkedWith\n",
    "# WebframeWantToWorkWith\n",
    "\n",
    "# MiscTechHaveWorkedWith\n",
    "# MiscTechWantToWorkWith\n",
    "\n",
    "# ToolsTechHaveWorkedWith\n",
    "# ToolsTechWantToWorkWith"
   ]
  },
  {
   "cell_type": "code",
   "execution_count": 13,
   "metadata": {},
   "outputs": [
    {
     "data": {
      "text/html": [
       "<pre style=\"white-space:pre;overflow-x:auto;line-height:normal;font-family:Menlo,'DejaVu Sans Mono',consolas,'Courier New',monospace\"><span style=\"font-weight: bold\">[</span>\n",
       "    <span style=\"color: #008000; text-decoration-color: #008000\">'Rust'</span>,\n",
       "    <span style=\"color: #008000; text-decoration-color: #008000\">'Erlang'</span>,\n",
       "    <span style=\"color: #008000; text-decoration-color: #008000\">'TypeScript'</span>,\n",
       "    <span style=\"color: #008000; text-decoration-color: #008000\">'C++'</span>,\n",
       "    <span style=\"color: #008000; text-decoration-color: #008000\">'HTML/CSS'</span>,\n",
       "    <span style=\"color: #008000; text-decoration-color: #008000\">'Clojure'</span>,\n",
       "    <span style=\"color: #008000; text-decoration-color: #008000\">'Python'</span>,\n",
       "    <span style=\"color: #008000; text-decoration-color: #008000\">'Swift'</span>,\n",
       "    <span style=\"color: #008000; text-decoration-color: #008000\">'Ruby'</span>,\n",
       "    <span style=\"color: #008000; text-decoration-color: #008000\">'C'</span>,\n",
       "    <span style=\"color: #008000; text-decoration-color: #008000\">'VBA'</span>,\n",
       "    <span style=\"color: #008000; text-decoration-color: #008000\">'Elixir'</span>,\n",
       "    <span style=\"color: #008000; text-decoration-color: #008000\">'COBOL'</span>,\n",
       "    <span style=\"color: #008000; text-decoration-color: #008000\">'Go'</span>,\n",
       "    <span style=\"color: #008000; text-decoration-color: #008000\">'Scala'</span>,\n",
       "    <span style=\"color: #008000; text-decoration-color: #008000\">'JavaScript'</span>,\n",
       "    <span style=\"color: #008000; text-decoration-color: #008000\">'Julia'</span>,\n",
       "    <span style=\"color: #008000; text-decoration-color: #008000\">'Node.js'</span>,\n",
       "    <span style=\"color: #008000; text-decoration-color: #008000\">'Haskell'</span>,\n",
       "    <span style=\"color: #008000; text-decoration-color: #008000\">'LISP'</span>,\n",
       "    <span style=\"color: #008000; text-decoration-color: #008000\">'APL'</span>,\n",
       "    <span style=\"color: #008000; text-decoration-color: #008000\">'SQL'</span>,\n",
       "    <span style=\"color: #008000; text-decoration-color: #008000\">'Groovy'</span>,\n",
       "    <span style=\"color: #008000; text-decoration-color: #008000\">'PowerShell'</span>,\n",
       "    <span style=\"color: #008000; text-decoration-color: #008000\">'F#'</span>,\n",
       "    <span style=\"color: #008000; text-decoration-color: #008000\">'Bash/Shell'</span>,\n",
       "    <span style=\"color: #008000; text-decoration-color: #008000\">'Matlab'</span>,\n",
       "    <span style=\"color: #008000; text-decoration-color: #008000\">'Perl'</span>,\n",
       "    <span style=\"color: #008000; text-decoration-color: #008000\">'PHP'</span>,\n",
       "    <span style=\"color: #008000; text-decoration-color: #008000\">'Dart'</span>,\n",
       "    <span style=\"color: #008000; text-decoration-color: #008000\">'Crystal'</span>,\n",
       "    <span style=\"color: #008000; text-decoration-color: #008000\">'Assembly'</span>,\n",
       "    <span style=\"color: #008000; text-decoration-color: #008000\">'Kotlin'</span>,\n",
       "    <span style=\"color: #008000; text-decoration-color: #008000\">'R'</span>,\n",
       "    <span style=\"color: #008000; text-decoration-color: #008000\">'Java'</span>,\n",
       "    <span style=\"color: #008000; text-decoration-color: #008000\">'Objective-C'</span>,\n",
       "    <span style=\"color: #008000; text-decoration-color: #008000\">'C#'</span>,\n",
       "    <span style=\"color: #008000; text-decoration-color: #008000\">'Delphi'</span>\n",
       "<span style=\"font-weight: bold\">]</span>\n",
       "</pre>\n"
      ],
      "text/plain": [
       "\u001b[1m[\u001b[0m\n",
       "    \u001b[32m'Rust'\u001b[0m,\n",
       "    \u001b[32m'Erlang'\u001b[0m,\n",
       "    \u001b[32m'TypeScript'\u001b[0m,\n",
       "    \u001b[32m'C++'\u001b[0m,\n",
       "    \u001b[32m'HTML/CSS'\u001b[0m,\n",
       "    \u001b[32m'Clojure'\u001b[0m,\n",
       "    \u001b[32m'Python'\u001b[0m,\n",
       "    \u001b[32m'Swift'\u001b[0m,\n",
       "    \u001b[32m'Ruby'\u001b[0m,\n",
       "    \u001b[32m'C'\u001b[0m,\n",
       "    \u001b[32m'VBA'\u001b[0m,\n",
       "    \u001b[32m'Elixir'\u001b[0m,\n",
       "    \u001b[32m'COBOL'\u001b[0m,\n",
       "    \u001b[32m'Go'\u001b[0m,\n",
       "    \u001b[32m'Scala'\u001b[0m,\n",
       "    \u001b[32m'JavaScript'\u001b[0m,\n",
       "    \u001b[32m'Julia'\u001b[0m,\n",
       "    \u001b[32m'Node.js'\u001b[0m,\n",
       "    \u001b[32m'Haskell'\u001b[0m,\n",
       "    \u001b[32m'LISP'\u001b[0m,\n",
       "    \u001b[32m'APL'\u001b[0m,\n",
       "    \u001b[32m'SQL'\u001b[0m,\n",
       "    \u001b[32m'Groovy'\u001b[0m,\n",
       "    \u001b[32m'PowerShell'\u001b[0m,\n",
       "    \u001b[32m'F#'\u001b[0m,\n",
       "    \u001b[32m'Bash/Shell'\u001b[0m,\n",
       "    \u001b[32m'Matlab'\u001b[0m,\n",
       "    \u001b[32m'Perl'\u001b[0m,\n",
       "    \u001b[32m'PHP'\u001b[0m,\n",
       "    \u001b[32m'Dart'\u001b[0m,\n",
       "    \u001b[32m'Crystal'\u001b[0m,\n",
       "    \u001b[32m'Assembly'\u001b[0m,\n",
       "    \u001b[32m'Kotlin'\u001b[0m,\n",
       "    \u001b[32m'R'\u001b[0m,\n",
       "    \u001b[32m'Java'\u001b[0m,\n",
       "    \u001b[32m'Objective-C'\u001b[0m,\n",
       "    \u001b[32m'C#'\u001b[0m,\n",
       "    \u001b[32m'Delphi'\u001b[0m\n",
       "\u001b[1m]\u001b[0m\n"
      ]
     },
     "metadata": {},
     "output_type": "display_data"
    }
   ],
   "source": [
    "# Extract all programming languages\n",
    "\n",
    "AllProgramingLanguages=set()\n",
    "for progrms in list(sd2021[sd2021.LanguageHaveWorkedWith.notnull()].LanguageHaveWorkedWith.unique()):\n",
    "    for program in progrms.split(\";\"):\n",
    "        AllProgramingLanguages.add(program)\n",
    "AllProgramingLanguages=list(AllProgramingLanguages)\n",
    "print(AllProgramingLanguages)"
   ]
  },
  {
   "cell_type": "code",
   "execution_count": 14,
   "metadata": {},
   "outputs": [
    {
     "data": {
      "text/html": [
       "<pre style=\"white-space:pre;overflow-x:auto;line-height:normal;font-family:Menlo,'DejaVu Sans Mono',consolas,'Courier New',monospace\"><span style=\"font-weight: bold\">[(</span><span style=\"color: #008000; text-decoration-color: #008000\">'C'</span>, <span style=\"color: #008080; text-decoration-color: #008080; font-weight: bold\">62925</span><span style=\"font-weight: bold\">)</span>, <span style=\"font-weight: bold\">(</span><span style=\"color: #008000; text-decoration-color: #008000\">'Java'</span>, <span style=\"color: #008080; text-decoration-color: #008080; font-weight: bold\">61328</span><span style=\"font-weight: bold\">)</span>, <span style=\"font-weight: bold\">(</span><span style=\"color: #008000; text-decoration-color: #008000\">'JavaScript'</span>, <span style=\"color: #008080; text-decoration-color: #008080; font-weight: bold\">52723</span><span style=\"font-weight: bold\">)</span>, <span style=\"font-weight: bold\">(</span><span style=\"color: #008000; text-decoration-color: #008000\">'HTML/CSS'</span>, <span style=\"color: #008080; text-decoration-color: #008080; font-weight: bold\">45500</span><span style=\"font-weight: bold\">)</span>, <span style=\"font-weight: bold\">(</span><span style=\"color: #008000; text-decoration-color: #008000\">'Python'</span>, <span style=\"color: #008080; text-decoration-color: #008080; font-weight: bold\">38990</span><span style=\"font-weight: bold\">)]</span>\n",
       "</pre>\n"
      ],
      "text/plain": [
       "\u001b[1m[\u001b[0m\u001b[1m(\u001b[0m\u001b[32m'C'\u001b[0m, \u001b[1;36m62925\u001b[0m\u001b[1m)\u001b[0m, \u001b[1m(\u001b[0m\u001b[32m'Java'\u001b[0m, \u001b[1;36m61328\u001b[0m\u001b[1m)\u001b[0m, \u001b[1m(\u001b[0m\u001b[32m'JavaScript'\u001b[0m, \u001b[1;36m52723\u001b[0m\u001b[1m)\u001b[0m, \u001b[1m(\u001b[0m\u001b[32m'HTML/CSS'\u001b[0m, \u001b[1;36m45500\u001b[0m\u001b[1m)\u001b[0m, \u001b[1m(\u001b[0m\u001b[32m'Python'\u001b[0m, \u001b[1;36m38990\u001b[0m\u001b[1m)\u001b[0m\u001b[1m]\u001b[0m\n"
      ]
     },
     "metadata": {},
     "output_type": "display_data"
    }
   ],
   "source": [
    "AllProgramingLanguagesReport={}\n",
    "\n",
    "def Prepare_APLReport(data):\n",
    "    for programs in AllProgramingLanguages:\n",
    "        if programs in str(data):\n",
    "            if programs not in AllProgramingLanguagesReport.keys():\n",
    "                AllProgramingLanguagesReport[programs]=1\n",
    "            else:\n",
    "                AllProgramingLanguagesReport[programs]+=1\n",
    "\n",
    "# Count No ogf learning Candidate\n",
    "final2021.LanguageHaveWorkedWith.map(Prepare_APLReport)\n",
    "\n",
    "# get Top 5 programming languages\n",
    "data = list(AllProgramingLanguagesReport.items())\n",
    "data.sort(key=lambda x: x[1], reverse=True)\n",
    "print(data[:5])"
   ]
  },
  {
   "cell_type": "code",
   "execution_count": 15,
   "metadata": {},
   "outputs": [
    {
     "data": {
      "text/html": [
       "<pre style=\"white-space:pre;overflow-x:auto;line-height:normal;font-family:Menlo,'DejaVu Sans Mono',consolas,'Courier New',monospace\"><span style=\"font-weight: bold\">[</span><span style=\"color: #008000; text-decoration-color: #008000\">'C'</span>, <span style=\"color: #008000; text-decoration-color: #008000\">'Java'</span>, <span style=\"color: #008000; text-decoration-color: #008000\">'JavaScript'</span>, <span style=\"color: #008000; text-decoration-color: #008000\">'HTML/CSS'</span>, <span style=\"color: #008000; text-decoration-color: #008000\">'Python'</span>, <span style=\"color: #008000; text-decoration-color: #008000\">'SQL'</span>, <span style=\"color: #008000; text-decoration-color: #008000\">'TypeScript'</span>, <span style=\"color: #008000; text-decoration-color: #008000\">'C#'</span><span style=\"font-weight: bold\">]</span>\n",
       "</pre>\n"
      ],
      "text/plain": [
       "\u001b[1m[\u001b[0m\u001b[32m'C'\u001b[0m, \u001b[32m'Java'\u001b[0m, \u001b[32m'JavaScript'\u001b[0m, \u001b[32m'HTML/CSS'\u001b[0m, \u001b[32m'Python'\u001b[0m, \u001b[32m'SQL'\u001b[0m, \u001b[32m'TypeScript'\u001b[0m, \u001b[32m'C#'\u001b[0m\u001b[1m]\u001b[0m\n"
      ]
     },
     "metadata": {},
     "output_type": "display_data"
    }
   ],
   "source": [
    "popularLanguage=[]\n",
    "for values in data[:9]:\n",
    "    if values[0] not in [\"Node.js\"]:\n",
    "        popularLanguage.append(values[0])\n",
    "print(popularLanguage)"
   ]
  },
  {
   "cell_type": "code",
   "execution_count": 16,
   "metadata": {},
   "outputs": [],
   "source": [
    "def LearnedFrom(language,dataset):\n",
    "    platforms={\"Free Resources Youtube/Blogs\":0}\n",
    "    dataset = dataset[dataset.LanguageHaveWorkedWith.notnull() ]\n",
    "    learnedFrom = list(\n",
    "        dataset[dataset.LanguageHaveWorkedWith.str.contains(language)].LearnCode.unique())\n",
    "    for platform in learnedFrom:\n",
    "        for value in str(platform).split(\";\"):\n",
    "            if value not in [\"NA\",\"nan\",]:\n",
    "                if value.strip() in [\"Other online resources (ex: videos, blogs, etc)\",\"Other (please specify):\",\"Other online resources (e.g., videos, blogs, forum)\"]:\n",
    "                    platforms[\"Free Resources Youtube/Blogs\"]+=1\n",
    "                elif value not in platforms:\n",
    "                    platforms[value]=0      \n",
    "                else:\n",
    "                    platforms[value]+=1\n",
    "    platforms = list(platforms.items())\n",
    "    platforms.sort(key=lambda x: x[1],reverse=True)\n",
    "    finalPlatform={}\n",
    "    outof=0\n",
    "    for key,value in platforms:\n",
    "        finalPlatform[key]=value\n",
    "        outof+=value\n",
    "    return {\"Languages\":language,\"Users\":len(learnedFrom),\"outof\":outof,\"From\":finalPlatform}"
   ]
  },
  {
   "cell_type": "code",
   "execution_count": 17,
   "metadata": {},
   "outputs": [],
   "source": [
    "from uuid import uuid4"
   ]
  },
  {
   "cell_type": "code",
   "execution_count": 18,
   "metadata": {},
   "outputs": [],
   "source": [
    "# 2021\n",
    "finalData=[]\n",
    "for index,age in enumerate(studentAge):\n",
    "    dataset = final2021[final2021.Age==age]\n",
    "    data=[]\n",
    "    for lang in popularLanguage:\n",
    "        data.append(LearnedFrom(lang,dataset))\n",
    "    finalData.append({\"id\":str(uuid4()),\"AgeGroup\":age,\"percent\":StudentByAge[age],\"data\":data})\n",
    "    \n",
    "with open(\"data2021.json\",\"w\") as file:\n",
    "    file.write(json.dumps(finalData,indent=4))"
   ]
  },
  {
   "cell_type": "code",
   "execution_count": 19,
   "metadata": {},
   "outputs": [],
   "source": [
    "# 2022\n",
    "finalData=[]\n",
    "for index, age in enumerate(studentAge):\n",
    "    dataset = final2022[final2022.Age==age]\n",
    "    data=[]\n",
    "    for lang in popularLanguage:\n",
    "        data.append(LearnedFrom(lang,dataset))\n",
    "    finalData.append({\"id\": str(uuid4()), \"AgeGroup\": age, \"data\": data})\n",
    "    \n",
    "with open(\"data2022.json\",\"w\") as file:\n",
    "    file.write(json.dumps(finalData,indent=4))"
   ]
  },
  {
   "cell_type": "code",
   "execution_count": null,
   "metadata": {},
   "outputs": [],
   "source": []
  }
 ],
 "metadata": {
  "kernelspec": {
   "display_name": "Python 3",
   "language": "python",
   "name": "python3"
  },
  "language_info": {
   "codemirror_mode": {
    "name": "ipython",
    "version": 3
   },
   "file_extension": ".py",
   "mimetype": "text/x-python",
   "name": "python",
   "nbconvert_exporter": "python",
   "pygments_lexer": "ipython3",
   "version": "3.9.10"
  },
  "orig_nbformat": 4,
  "vscode": {
   "interpreter": {
    "hash": "cbab11b8a05f1bbf2e3546f3eb88207e25648a4574dc6c787cf38db2a8776ed3"
   }
  }
 },
 "nbformat": 4,
 "nbformat_minor": 2
}
